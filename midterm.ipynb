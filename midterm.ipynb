{
 "cells": [
  {
   "cell_type": "code",
   "execution_count": 1,
   "id": "c79e862b",
   "metadata": {},
   "outputs": [],
   "source": [
    "%matplotlib inline\n",
    "import pandas as pd\n",
    "import seaborn as sns\n",
    "import math\n",
    "import matplotlib.pyplot as plt\n",
    "import scipy.stats as stats\n",
    "import numpy as np"
   ]
  },
  {
   "cell_type": "code",
   "execution_count": 7,
   "id": "ef44b7dc",
   "metadata": {},
   "outputs": [],
   "source": [
    "ci = pd.read_csv('./CI.csv'),# index_col='Id')\n",
    "vlo = pd.read_csv('./VLO.csv'),# index_col='Id')\n",
    "vz = pd.read_csv('./VZ.csv'),# index_col='Id')"
   ]
  },
  {
   "cell_type": "code",
   "execution_count": 20,
   "id": "7b42a52d",
   "metadata": {},
   "outputs": [
    {
     "data": {
      "text/html": [
       "<div>\n",
       "<style scoped>\n",
       "    .dataframe tbody tr th:only-of-type {\n",
       "        vertical-align: middle;\n",
       "    }\n",
       "\n",
       "    .dataframe tbody tr th {\n",
       "        vertical-align: top;\n",
       "    }\n",
       "\n",
       "    .dataframe thead th {\n",
       "        text-align: right;\n",
       "    }\n",
       "</style>\n",
       "<table border=\"1\" class=\"dataframe\">\n",
       "  <thead>\n",
       "    <tr style=\"text-align: right;\">\n",
       "      <th></th>\n",
       "      <th>Date</th>\n",
       "      <th>High</th>\n",
       "      <th>Low</th>\n",
       "      <th>Open</th>\n",
       "      <th>Close</th>\n",
       "      <th>Volume</th>\n",
       "      <th>Adj Close</th>\n",
       "    </tr>\n",
       "  </thead>\n",
       "  <tbody>\n",
       "    <tr>\n",
       "      <th>0</th>\n",
       "      <td>2017-11-13</td>\n",
       "      <td>198.270004</td>\n",
       "      <td>195.899994</td>\n",
       "      <td>197.800003</td>\n",
       "      <td>197.610001</td>\n",
       "      <td>1277900.0</td>\n",
       "      <td>191.483459</td>\n",
       "    </tr>\n",
       "    <tr>\n",
       "      <th>1</th>\n",
       "      <td>2017-11-14</td>\n",
       "      <td>197.669998</td>\n",
       "      <td>195.250000</td>\n",
       "      <td>197.229996</td>\n",
       "      <td>197.139999</td>\n",
       "      <td>1263100.0</td>\n",
       "      <td>191.028030</td>\n",
       "    </tr>\n",
       "    <tr>\n",
       "      <th>2</th>\n",
       "      <td>2017-11-15</td>\n",
       "      <td>197.410004</td>\n",
       "      <td>196.119995</td>\n",
       "      <td>196.619995</td>\n",
       "      <td>196.500000</td>\n",
       "      <td>1293500.0</td>\n",
       "      <td>190.407867</td>\n",
       "    </tr>\n",
       "    <tr>\n",
       "      <th>3</th>\n",
       "      <td>2017-11-16</td>\n",
       "      <td>201.339996</td>\n",
       "      <td>196.289993</td>\n",
       "      <td>196.699997</td>\n",
       "      <td>200.970001</td>\n",
       "      <td>1130100.0</td>\n",
       "      <td>194.739304</td>\n",
       "    </tr>\n",
       "    <tr>\n",
       "      <th>4</th>\n",
       "      <td>2017-11-17</td>\n",
       "      <td>200.210007</td>\n",
       "      <td>197.770004</td>\n",
       "      <td>199.910004</td>\n",
       "      <td>197.970001</td>\n",
       "      <td>980900.0</td>\n",
       "      <td>191.832321</td>\n",
       "    </tr>\n",
       "    <tr>\n",
       "      <th>...</th>\n",
       "      <td>...</td>\n",
       "      <td>...</td>\n",
       "      <td>...</td>\n",
       "      <td>...</td>\n",
       "      <td>...</td>\n",
       "      <td>...</td>\n",
       "      <td>...</td>\n",
       "    </tr>\n",
       "    <tr>\n",
       "      <th>1254</th>\n",
       "      <td>2022-11-07</td>\n",
       "      <td>327.369995</td>\n",
       "      <td>321.480011</td>\n",
       "      <td>324.000000</td>\n",
       "      <td>324.369995</td>\n",
       "      <td>1566600.0</td>\n",
       "      <td>324.369995</td>\n",
       "    </tr>\n",
       "    <tr>\n",
       "      <th>1255</th>\n",
       "      <td>2022-11-08</td>\n",
       "      <td>329.390015</td>\n",
       "      <td>321.179993</td>\n",
       "      <td>323.089996</td>\n",
       "      <td>327.739990</td>\n",
       "      <td>1349300.0</td>\n",
       "      <td>327.739990</td>\n",
       "    </tr>\n",
       "    <tr>\n",
       "      <th>1256</th>\n",
       "      <td>2022-11-09</td>\n",
       "      <td>331.049988</td>\n",
       "      <td>324.589996</td>\n",
       "      <td>328.709991</td>\n",
       "      <td>324.989990</td>\n",
       "      <td>1278000.0</td>\n",
       "      <td>324.989990</td>\n",
       "    </tr>\n",
       "    <tr>\n",
       "      <th>1257</th>\n",
       "      <td>2022-11-10</td>\n",
       "      <td>329.049988</td>\n",
       "      <td>315.630005</td>\n",
       "      <td>329.049988</td>\n",
       "      <td>323.339996</td>\n",
       "      <td>2063000.0</td>\n",
       "      <td>323.339996</td>\n",
       "    </tr>\n",
       "    <tr>\n",
       "      <th>1258</th>\n",
       "      <td>2022-11-11</td>\n",
       "      <td>324.500000</td>\n",
       "      <td>289.609985</td>\n",
       "      <td>324.390015</td>\n",
       "      <td>303.820007</td>\n",
       "      <td>5494500.0</td>\n",
       "      <td>303.820007</td>\n",
       "    </tr>\n",
       "  </tbody>\n",
       "</table>\n",
       "<p>1259 rows × 7 columns</p>\n",
       "</div>"
      ],
      "text/plain": [
       "            Date        High         Low        Open       Close     Volume  \\\n",
       "0     2017-11-13  198.270004  195.899994  197.800003  197.610001  1277900.0   \n",
       "1     2017-11-14  197.669998  195.250000  197.229996  197.139999  1263100.0   \n",
       "2     2017-11-15  197.410004  196.119995  196.619995  196.500000  1293500.0   \n",
       "3     2017-11-16  201.339996  196.289993  196.699997  200.970001  1130100.0   \n",
       "4     2017-11-17  200.210007  197.770004  199.910004  197.970001   980900.0   \n",
       "...          ...         ...         ...         ...         ...        ...   \n",
       "1254  2022-11-07  327.369995  321.480011  324.000000  324.369995  1566600.0   \n",
       "1255  2022-11-08  329.390015  321.179993  323.089996  327.739990  1349300.0   \n",
       "1256  2022-11-09  331.049988  324.589996  328.709991  324.989990  1278000.0   \n",
       "1257  2022-11-10  329.049988  315.630005  329.049988  323.339996  2063000.0   \n",
       "1258  2022-11-11  324.500000  289.609985  324.390015  303.820007  5494500.0   \n",
       "\n",
       "       Adj Close  \n",
       "0     191.483459  \n",
       "1     191.028030  \n",
       "2     190.407867  \n",
       "3     194.739304  \n",
       "4     191.832321  \n",
       "...          ...  \n",
       "1254  324.369995  \n",
       "1255  327.739990  \n",
       "1256  324.989990  \n",
       "1257  323.339996  \n",
       "1258  303.820007  \n",
       "\n",
       "[1259 rows x 7 columns]"
      ]
     },
     "execution_count": 20,
     "metadata": {},
     "output_type": "execute_result"
    }
   ],
   "source": [
    "vlo_new = vlo[0]\n",
    "vz_new = vz[0]\n",
    "\n",
    "ci_new = ci[0]\n",
    "ci_new"
   ]
  },
  {
   "cell_type": "markdown",
   "id": "c633f219",
   "metadata": {},
   "source": [
    "1. Is there a company that has no difference between Close and Adj Close column? What does it mean from the financial point of view for the stock (you can get bonus partial points) ?\n",
    "\n",
    "- as it can be seen from code below, there is no such a company\n",
    "- the adj. close is the closing price adjusted for distributions of splits and dividend \n",
    "\n"
   ]
  },
  {
   "cell_type": "code",
   "execution_count": 19,
   "id": "785138b5",
   "metadata": {},
   "outputs": [
    {
     "data": {
      "text/plain": [
       "0       False\n",
       "1       False\n",
       "2       False\n",
       "3       False\n",
       "4       False\n",
       "        ...  \n",
       "1254     True\n",
       "1255     True\n",
       "1256     True\n",
       "1257     True\n",
       "1258     True\n",
       "Length: 1259, dtype: bool"
      ]
     },
     "execution_count": 19,
     "metadata": {},
     "output_type": "execute_result"
    }
   ],
   "source": [
    "ci_new['Close'] == ci_new['Adj Close']"
   ]
  },
  {
   "cell_type": "code",
   "execution_count": 28,
   "id": "9d14c9dd",
   "metadata": {},
   "outputs": [
    {
     "data": {
      "text/plain": [
       "False"
      ]
     },
     "execution_count": 28,
     "metadata": {},
     "output_type": "execute_result"
    }
   ],
   "source": [
    "(ci_new['Close'] == ci_new['Adj Close']).all() == True"
   ]
  },
  {
   "cell_type": "code",
   "execution_count": 27,
   "id": "cfce46ea",
   "metadata": {},
   "outputs": [
    {
     "data": {
      "text/plain": [
       "False"
      ]
     },
     "execution_count": 27,
     "metadata": {},
     "output_type": "execute_result"
    }
   ],
   "source": [
    "(vz_new['Close'] == vz_new['Adj Close']).all() == True"
   ]
  },
  {
   "cell_type": "code",
   "execution_count": 25,
   "id": "747bf59c",
   "metadata": {},
   "outputs": [
    {
     "data": {
      "text/plain": [
       "False"
      ]
     },
     "execution_count": 25,
     "metadata": {},
     "output_type": "execute_result"
    }
   ],
   "source": [
    "(vlo_new['Close'] == vlo_new['Adj Close']).all() == True"
   ]
  },
  {
   "cell_type": "markdown",
   "id": "8b001893",
   "metadata": {},
   "source": [
    "2. What is the highest and lowest price (Adj Close) each company recorded?\n",
    " - it can be seen below"
   ]
  },
  {
   "cell_type": "code",
   "execution_count": 32,
   "id": "eb32e1be",
   "metadata": {},
   "outputs": [
    {
     "data": {
      "text/plain": [
       "327.739990234375"
      ]
     },
     "execution_count": 32,
     "metadata": {},
     "output_type": "execute_result"
    }
   ],
   "source": [
    ".max()"
   ]
  },
  {
   "cell_type": "code",
   "execution_count": 30,
   "id": "a0a24f38",
   "metadata": {},
   "outputs": [
    {
     "data": {
      "text/plain": [
       "58.36091232299805"
      ]
     },
     "execution_count": 30,
     "metadata": {},
     "output_type": "execute_result"
    }
   ],
   "source": [
    "vz_new['Adj Close'].max()"
   ]
  },
  {
   "cell_type": "code",
   "execution_count": 31,
   "id": "a7263e77",
   "metadata": {},
   "outputs": [
    {
     "data": {
      "text/plain": [
       "145.0800018310547"
      ]
     },
     "execution_count": 31,
     "metadata": {},
     "output_type": "execute_result"
    }
   ],
   "source": [
    "vlo_new['Adj Close'].max()"
   ]
  },
  {
   "cell_type": "markdown",
   "id": "761da5fe",
   "metadata": {},
   "source": [
    "3. (1pt task) Calculate logarithmic returns from Adj Close. For each company report on its, min, man, mean, median of the return distribution."
   ]
  },
  {
   "cell_type": "code",
   "execution_count": 35,
   "id": "0ea6a08f",
   "metadata": {},
   "outputs": [],
   "source": [
    "ci_new['log_ret'] = np.log(ci_new['Adj Close'])\n",
    "vz_new['log_ret'] = np.log(vz_new['Adj Close'])\n",
    "vlo_new['log_ret'] = np.log(vlo_new['Adj Close'])"
   ]
  },
  {
   "cell_type": "code",
   "execution_count": 36,
   "id": "0ea1d492",
   "metadata": {},
   "outputs": [
    {
     "data": {
      "text/html": [
       "<div>\n",
       "<style scoped>\n",
       "    .dataframe tbody tr th:only-of-type {\n",
       "        vertical-align: middle;\n",
       "    }\n",
       "\n",
       "    .dataframe tbody tr th {\n",
       "        vertical-align: top;\n",
       "    }\n",
       "\n",
       "    .dataframe thead th {\n",
       "        text-align: right;\n",
       "    }\n",
       "</style>\n",
       "<table border=\"1\" class=\"dataframe\">\n",
       "  <thead>\n",
       "    <tr style=\"text-align: right;\">\n",
       "      <th></th>\n",
       "      <th>Date</th>\n",
       "      <th>High</th>\n",
       "      <th>Low</th>\n",
       "      <th>Open</th>\n",
       "      <th>Close</th>\n",
       "      <th>Volume</th>\n",
       "      <th>Adj Close</th>\n",
       "      <th>log_ret</th>\n",
       "    </tr>\n",
       "  </thead>\n",
       "  <tbody>\n",
       "    <tr>\n",
       "      <th>0</th>\n",
       "      <td>2017-11-13</td>\n",
       "      <td>198.270004</td>\n",
       "      <td>195.899994</td>\n",
       "      <td>197.800003</td>\n",
       "      <td>197.610001</td>\n",
       "      <td>1277900.0</td>\n",
       "      <td>191.483459</td>\n",
       "      <td>5.254801</td>\n",
       "    </tr>\n",
       "    <tr>\n",
       "      <th>1</th>\n",
       "      <td>2017-11-14</td>\n",
       "      <td>197.669998</td>\n",
       "      <td>195.250000</td>\n",
       "      <td>197.229996</td>\n",
       "      <td>197.139999</td>\n",
       "      <td>1263100.0</td>\n",
       "      <td>191.028030</td>\n",
       "      <td>5.252420</td>\n",
       "    </tr>\n",
       "    <tr>\n",
       "      <th>2</th>\n",
       "      <td>2017-11-15</td>\n",
       "      <td>197.410004</td>\n",
       "      <td>196.119995</td>\n",
       "      <td>196.619995</td>\n",
       "      <td>196.500000</td>\n",
       "      <td>1293500.0</td>\n",
       "      <td>190.407867</td>\n",
       "      <td>5.249168</td>\n",
       "    </tr>\n",
       "    <tr>\n",
       "      <th>3</th>\n",
       "      <td>2017-11-16</td>\n",
       "      <td>201.339996</td>\n",
       "      <td>196.289993</td>\n",
       "      <td>196.699997</td>\n",
       "      <td>200.970001</td>\n",
       "      <td>1130100.0</td>\n",
       "      <td>194.739304</td>\n",
       "      <td>5.271662</td>\n",
       "    </tr>\n",
       "    <tr>\n",
       "      <th>4</th>\n",
       "      <td>2017-11-17</td>\n",
       "      <td>200.210007</td>\n",
       "      <td>197.770004</td>\n",
       "      <td>199.910004</td>\n",
       "      <td>197.970001</td>\n",
       "      <td>980900.0</td>\n",
       "      <td>191.832321</td>\n",
       "      <td>5.256622</td>\n",
       "    </tr>\n",
       "    <tr>\n",
       "      <th>...</th>\n",
       "      <td>...</td>\n",
       "      <td>...</td>\n",
       "      <td>...</td>\n",
       "      <td>...</td>\n",
       "      <td>...</td>\n",
       "      <td>...</td>\n",
       "      <td>...</td>\n",
       "      <td>...</td>\n",
       "    </tr>\n",
       "    <tr>\n",
       "      <th>1254</th>\n",
       "      <td>2022-11-07</td>\n",
       "      <td>327.369995</td>\n",
       "      <td>321.480011</td>\n",
       "      <td>324.000000</td>\n",
       "      <td>324.369995</td>\n",
       "      <td>1566600.0</td>\n",
       "      <td>324.369995</td>\n",
       "      <td>5.781885</td>\n",
       "    </tr>\n",
       "    <tr>\n",
       "      <th>1255</th>\n",
       "      <td>2022-11-08</td>\n",
       "      <td>329.390015</td>\n",
       "      <td>321.179993</td>\n",
       "      <td>323.089996</td>\n",
       "      <td>327.739990</td>\n",
       "      <td>1349300.0</td>\n",
       "      <td>327.739990</td>\n",
       "      <td>5.792221</td>\n",
       "    </tr>\n",
       "    <tr>\n",
       "      <th>1256</th>\n",
       "      <td>2022-11-09</td>\n",
       "      <td>331.049988</td>\n",
       "      <td>324.589996</td>\n",
       "      <td>328.709991</td>\n",
       "      <td>324.989990</td>\n",
       "      <td>1278000.0</td>\n",
       "      <td>324.989990</td>\n",
       "      <td>5.783794</td>\n",
       "    </tr>\n",
       "    <tr>\n",
       "      <th>1257</th>\n",
       "      <td>2022-11-10</td>\n",
       "      <td>329.049988</td>\n",
       "      <td>315.630005</td>\n",
       "      <td>329.049988</td>\n",
       "      <td>323.339996</td>\n",
       "      <td>2063000.0</td>\n",
       "      <td>323.339996</td>\n",
       "      <td>5.778704</td>\n",
       "    </tr>\n",
       "    <tr>\n",
       "      <th>1258</th>\n",
       "      <td>2022-11-11</td>\n",
       "      <td>324.500000</td>\n",
       "      <td>289.609985</td>\n",
       "      <td>324.390015</td>\n",
       "      <td>303.820007</td>\n",
       "      <td>5494500.0</td>\n",
       "      <td>303.820007</td>\n",
       "      <td>5.716435</td>\n",
       "    </tr>\n",
       "  </tbody>\n",
       "</table>\n",
       "<p>1259 rows × 8 columns</p>\n",
       "</div>"
      ],
      "text/plain": [
       "            Date        High         Low        Open       Close     Volume  \\\n",
       "0     2017-11-13  198.270004  195.899994  197.800003  197.610001  1277900.0   \n",
       "1     2017-11-14  197.669998  195.250000  197.229996  197.139999  1263100.0   \n",
       "2     2017-11-15  197.410004  196.119995  196.619995  196.500000  1293500.0   \n",
       "3     2017-11-16  201.339996  196.289993  196.699997  200.970001  1130100.0   \n",
       "4     2017-11-17  200.210007  197.770004  199.910004  197.970001   980900.0   \n",
       "...          ...         ...         ...         ...         ...        ...   \n",
       "1254  2022-11-07  327.369995  321.480011  324.000000  324.369995  1566600.0   \n",
       "1255  2022-11-08  329.390015  321.179993  323.089996  327.739990  1349300.0   \n",
       "1256  2022-11-09  331.049988  324.589996  328.709991  324.989990  1278000.0   \n",
       "1257  2022-11-10  329.049988  315.630005  329.049988  323.339996  2063000.0   \n",
       "1258  2022-11-11  324.500000  289.609985  324.390015  303.820007  5494500.0   \n",
       "\n",
       "       Adj Close   log_ret  \n",
       "0     191.483459  5.254801  \n",
       "1     191.028030  5.252420  \n",
       "2     190.407867  5.249168  \n",
       "3     194.739304  5.271662  \n",
       "4     191.832321  5.256622  \n",
       "...          ...       ...  \n",
       "1254  324.369995  5.781885  \n",
       "1255  327.739990  5.792221  \n",
       "1256  324.989990  5.783794  \n",
       "1257  323.339996  5.778704  \n",
       "1258  303.820007  5.716435  \n",
       "\n",
       "[1259 rows x 8 columns]"
      ]
     },
     "execution_count": 36,
     "metadata": {},
     "output_type": "execute_result"
    }
   ],
   "source": [
    "ci_new"
   ]
  },
  {
   "cell_type": "code",
   "execution_count": 44,
   "id": "b34b31c6",
   "metadata": {},
   "outputs": [
    {
     "name": "stdout",
     "output_type": "stream",
     "text": [
      "For CI the mean is of returns: 5.289589527090317 ,median is: 5.2831262699560915 ,minimum is: 4.837183343409718 ,maximum is: 5.792220581321211\n"
     ]
    }
   ],
   "source": [
    "mean = ci_new['log_ret'].mean()\n",
    "median = ci_new['log_ret'].median()\n",
    "minim = ci_new['log_ret'].min()\n",
    "maxim = ci_new['log_ret'].max()\n",
    "\n",
    "print('For CI the mean is of returns:', mean, ',median is:', median, ',minimum is:', minim,',maximum is:', maxim)"
   ]
  },
  {
   "cell_type": "code",
   "execution_count": 45,
   "id": "b2e00463",
   "metadata": {},
   "outputs": [
    {
     "name": "stdout",
     "output_type": "stream",
     "text": [
      "For VZ the mean is of returns: 3.9083185950904467 ,median is: 3.940781141514208 ,minimum is: 3.5652983491776897 ,maximum is: 4.066646356208853\n"
     ]
    }
   ],
   "source": [
    "mean = vz_new['log_ret'].mean()\n",
    "median = vz_new['log_ret'].median()\n",
    "minim = vz_new['log_ret'].min()\n",
    "maxim = vz_new['log_ret'].max()\n",
    "\n",
    "print('For VZ the mean is of returns:', mean, ',median is:', median, ',minimum is:', minim,',maximum is:', maxim)"
   ]
  },
  {
   "cell_type": "code",
   "execution_count": 46,
   "id": "ed6ec955",
   "metadata": {},
   "outputs": [
    {
     "name": "stdout",
     "output_type": "stream",
     "text": [
      "For VLO the mean is of returns: 4.298786101362266 ,median is: 4.299794661732045 ,minimum is: 3.367794707391175 ,maximum is: 4.977285327035702\n"
     ]
    }
   ],
   "source": [
    "mean = vlo_new['log_ret'].mean()\n",
    "median = vlo_new['log_ret'].median()\n",
    "minim = vlo_new['log_ret'].min()\n",
    "maxim = vlo_new['log_ret'].max()\n",
    "\n",
    "print('For VLO the mean is of returns:', mean, ',median is:', median, ',minimum is:', minim,',maximum is:', maxim)"
   ]
  },
  {
   "cell_type": "markdown",
   "id": "0562bfc6",
   "metadata": {},
   "source": [
    "4. When did each company record the highest gain and highest loss for the day? (logarithmic loss). Hint: idxmax"
   ]
  },
  {
   "cell_type": "code",
   "execution_count": 65,
   "id": "0beafdd4",
   "metadata": {},
   "outputs": [],
   "source": [
    "#loss\n",
    "ci_new['loss'] = (np.log(ci_new['Open']) - np.log(ci_new['Close']))\n",
    "vz_new['loss'] = (np.log(vz_new['Open']) - np.log(vz_new['Close']))\n",
    "vlo_new['loss'] = (np.log(vlo_new['Open']) - np.log(vlo_new['Close']))"
   ]
  },
  {
   "cell_type": "code",
   "execution_count": 67,
   "id": "518c5422",
   "metadata": {},
   "outputs": [],
   "source": [
    "#gain\n",
    "ci_new['gain'] = (np.log(ci_new['Close']) - np.log(ci_new['Open']))\n",
    "vz_new['gain'] = (np.log(vz_new['Close']) - np.log(vz_new['Open']))\n",
    "vlo_new['gain'] = (np.log(vlo_new['Close']) - np.log(vlo_new['Open']))"
   ]
  },
  {
   "cell_type": "code",
   "execution_count": 73,
   "id": "1bc46fc3",
   "metadata": {},
   "outputs": [
    {
     "name": "stdout",
     "output_type": "stream",
     "text": [
      " CI index 356 with a difference of loss of 0.09865111350359435\n",
      " VZ index 1232 with a difference of loss of 0.04217417238599408\n",
      " VLO index 591 with a difference of loss of 0.1343358595919666\n",
      " CI index 596 with a difference of gain of 0.09108925886436481\n",
      " VZ index 594 with a difference of gain of 0.07663985161405051\n",
      " VLO index 609 with a difference of gain of 0.11472062375244407\n"
     ]
    }
   ],
   "source": [
    "print (' CI index {} with a difference of loss of {}'.format(ci_new['loss'].idxmax(), ci_new['loss'].max()))\n",
    "print (' VZ index {} with a difference of loss of {}'.format(vz_new['loss'].idxmax(), vz_new['loss'].max()))\n",
    "print (' VLO index {} with a difference of loss of {}'.format(vlo_new['loss'].idxmax(), vlo_new['loss'].max()))\n",
    "\n",
    "print (' CI index {} with a difference of gain of {}'.format(ci_new['gain'].idxmax(), ci_new['gain'].max()))\n",
    "print (' VZ index {} with a difference of gain of {}'.format(vz_new['gain'].idxmax(), vz_new['gain'].max()))\n",
    "print (' VLO index {} with a difference of gain of {}'.format(vlo_new['gain'].idxmax(), vlo_new['gain'].max()))"
   ]
  },
  {
   "cell_type": "code",
   "execution_count": 78,
   "id": "e4e561d7",
   "metadata": {},
   "outputs": [
    {
     "name": "stdout",
     "output_type": "stream",
     "text": [
      "           Date        High         Low        Open       Close     Volume  \\\n",
      "356  2019-04-16  167.259995  150.509995  166.699997  151.039993  6383100.0   \n",
      "\n",
      "      Adj Close   log_ret      loss      gain  \n",
      "356  146.427094  4.986528  0.098651 -0.098651  \n",
      "            Date   High    Low       Open  Close      Volume  Adj Close  \\\n",
      "1232  2022-10-06  39.66  37.77  39.470001  37.84  36663300.0      37.84   \n",
      "\n",
      "       log_ret      loss      gain  \n",
      "1232  3.633367  0.042174 -0.042174  \n",
      "           Date       High        Low       Open      Close     Volume  \\\n",
      "591  2020-03-23  37.779999  32.459999  37.310001  32.619999  6535300.0   \n",
      "\n",
      "     Adj Close   log_ret      loss      gain  \n",
      "591  29.014471  3.367795  0.134336 -0.134336  \n"
     ]
    },
    {
     "data": {
      "text/html": [
       "<div>\n",
       "<style scoped>\n",
       "    .dataframe tbody tr th:only-of-type {\n",
       "        vertical-align: middle;\n",
       "    }\n",
       "\n",
       "    .dataframe tbody tr th {\n",
       "        vertical-align: top;\n",
       "    }\n",
       "\n",
       "    .dataframe thead th {\n",
       "        text-align: right;\n",
       "    }\n",
       "</style>\n",
       "<table border=\"1\" class=\"dataframe\">\n",
       "  <thead>\n",
       "    <tr style=\"text-align: right;\">\n",
       "      <th></th>\n",
       "      <th>Date</th>\n",
       "      <th>High</th>\n",
       "      <th>Low</th>\n",
       "      <th>Open</th>\n",
       "      <th>Close</th>\n",
       "      <th>Volume</th>\n",
       "      <th>Adj Close</th>\n",
       "      <th>log_ret</th>\n",
       "      <th>loss</th>\n",
       "      <th>gain</th>\n",
       "    </tr>\n",
       "  </thead>\n",
       "  <tbody>\n",
       "    <tr>\n",
       "      <th>594</th>\n",
       "      <td>2020-03-26</td>\n",
       "      <td>53.900002</td>\n",
       "      <td>49.509998</td>\n",
       "      <td>49.59</td>\n",
       "      <td>53.540001</td>\n",
       "      <td>32610900.0</td>\n",
       "      <td>48.993931</td>\n",
       "      <td>3.891696</td>\n",
       "      <td>-0.07664</td>\n",
       "      <td>0.07664</td>\n",
       "    </tr>\n",
       "  </tbody>\n",
       "</table>\n",
       "</div>"
      ],
      "text/plain": [
       "           Date       High        Low   Open      Close      Volume  \\\n",
       "594  2020-03-26  53.900002  49.509998  49.59  53.540001  32610900.0   \n",
       "\n",
       "     Adj Close   log_ret     loss     gain  \n",
       "594  48.993931  3.891696 -0.07664  0.07664  "
      ]
     },
     "execution_count": 78,
     "metadata": {},
     "output_type": "execute_result"
    }
   ],
   "source": [
    "# LOSS DATE\n",
    "print(ci_new.loc[ci_new['loss'] == 0.09865111350359435]) # 2019-04-16 date\n",
    "print(vz_new.loc[vz_new['loss'] == 0.04217417238599408]) #2022-10-06 \n",
    "print(vlo_new.loc[vlo_new['loss'] == 0.1343358595919666]) # 2020-03-23 "
   ]
  },
  {
   "cell_type": "code",
   "execution_count": 79,
   "id": "8d5b79a8",
   "metadata": {},
   "outputs": [
    {
     "name": "stdout",
     "output_type": "stream",
     "text": [
      "           Date        High         Low        Open       Close     Volume  \\\n",
      "596  2020-03-30  178.940002  162.740005  162.740005  178.259995  3677400.0   \n",
      "\n",
      "      Adj Close   log_ret      loss      gain  \n",
      "596  172.851105  5.152431 -0.091089  0.091089  \n",
      "           Date       High        Low   Open      Close      Volume  \\\n",
      "594  2020-03-26  53.900002  49.509998  49.59  53.540001  32610900.0   \n",
      "\n",
      "     Adj Close   log_ret     loss     gain  \n",
      "594  48.993931  3.891696 -0.07664  0.07664  \n",
      "           Date   High    Low       Open      Close     Volume  Adj Close  \\\n",
      "609  2020-04-17  51.91  45.75  46.150002  51.759998  6855700.0  46.038906   \n",
      "\n",
      "      log_ret      loss      gain  \n",
      "609  3.829487 -0.114721  0.114721  \n"
     ]
    }
   ],
   "source": [
    "print(ci_new.loc[ci_new['gain'] == 0.09108925886436481]) # 2020-03-30 \n",
    "print(vz_new.loc[vz_new['gain'] == 0.07663985161405051]) # 2020-03-26\n",
    "print(vlo_new.loc[vlo_new['gain'] == 0.11472062375244407]) # 2020-04-17"
   ]
  },
  {
   "cell_type": "markdown",
   "id": "41d5ab18",
   "metadata": {},
   "source": [
    "5.What is the average calendar weekly volume for each company? Hint: check how to\n",
    "resample pandas DF"
   ]
  },
  {
   "cell_type": "code",
   "execution_count": 88,
   "id": "d7a2783d",
   "metadata": {},
   "outputs": [
    {
     "data": {
      "text/html": [
       "<div>\n",
       "<style scoped>\n",
       "    .dataframe tbody tr th:only-of-type {\n",
       "        vertical-align: middle;\n",
       "    }\n",
       "\n",
       "    .dataframe tbody tr th {\n",
       "        vertical-align: top;\n",
       "    }\n",
       "\n",
       "    .dataframe thead th {\n",
       "        text-align: right;\n",
       "    }\n",
       "</style>\n",
       "<table border=\"1\" class=\"dataframe\">\n",
       "  <thead>\n",
       "    <tr style=\"text-align: right;\">\n",
       "      <th></th>\n",
       "      <th>average_volume_per_week</th>\n",
       "    </tr>\n",
       "    <tr>\n",
       "      <th>Date</th>\n",
       "      <th></th>\n",
       "    </tr>\n",
       "  </thead>\n",
       "  <tbody>\n",
       "    <tr>\n",
       "      <th>2017-11-19</th>\n",
       "      <td>1189100.0</td>\n",
       "    </tr>\n",
       "    <tr>\n",
       "      <th>2017-11-26</th>\n",
       "      <td>788075.0</td>\n",
       "    </tr>\n",
       "    <tr>\n",
       "      <th>2017-12-03</th>\n",
       "      <td>1686280.0</td>\n",
       "    </tr>\n",
       "    <tr>\n",
       "      <th>2017-12-10</th>\n",
       "      <td>1172100.0</td>\n",
       "    </tr>\n",
       "    <tr>\n",
       "      <th>2017-12-17</th>\n",
       "      <td>1567700.0</td>\n",
       "    </tr>\n",
       "    <tr>\n",
       "      <th>...</th>\n",
       "      <td>...</td>\n",
       "    </tr>\n",
       "    <tr>\n",
       "      <th>2022-10-16</th>\n",
       "      <td>2349100.0</td>\n",
       "    </tr>\n",
       "    <tr>\n",
       "      <th>2022-10-23</th>\n",
       "      <td>1951360.0</td>\n",
       "    </tr>\n",
       "    <tr>\n",
       "      <th>2022-10-30</th>\n",
       "      <td>1627800.0</td>\n",
       "    </tr>\n",
       "    <tr>\n",
       "      <th>2022-11-06</th>\n",
       "      <td>2174520.0</td>\n",
       "    </tr>\n",
       "    <tr>\n",
       "      <th>2022-11-13</th>\n",
       "      <td>2350280.0</td>\n",
       "    </tr>\n",
       "  </tbody>\n",
       "</table>\n",
       "<p>261 rows × 1 columns</p>\n",
       "</div>"
      ],
      "text/plain": [
       "            average_volume_per_week\n",
       "Date                               \n",
       "2017-11-19                1189100.0\n",
       "2017-11-26                 788075.0\n",
       "2017-12-03                1686280.0\n",
       "2017-12-10                1172100.0\n",
       "2017-12-17                1567700.0\n",
       "...                             ...\n",
       "2022-10-16                2349100.0\n",
       "2022-10-23                1951360.0\n",
       "2022-10-30                1627800.0\n",
       "2022-11-06                2174520.0\n",
       "2022-11-13                2350280.0\n",
       "\n",
       "[261 rows x 1 columns]"
      ]
     },
     "execution_count": 88,
     "metadata": {},
     "output_type": "execute_result"
    }
   ],
   "source": [
    "ci_new['Date'] = pd.to_datetime(ci_new['Date'])\n",
    "(ci_new.groupby([pd.Grouper(key = 'Date', freq = 'W')])\n",
    ".agg(average_volume_per_week = ('Volume' , 'mean'))\n",
    ".round())"
   ]
  },
  {
   "cell_type": "code",
   "execution_count": 91,
   "id": "36dbf46b",
   "metadata": {},
   "outputs": [
    {
     "data": {
      "text/html": [
       "<div>\n",
       "<style scoped>\n",
       "    .dataframe tbody tr th:only-of-type {\n",
       "        vertical-align: middle;\n",
       "    }\n",
       "\n",
       "    .dataframe tbody tr th {\n",
       "        vertical-align: top;\n",
       "    }\n",
       "\n",
       "    .dataframe thead th {\n",
       "        text-align: right;\n",
       "    }\n",
       "</style>\n",
       "<table border=\"1\" class=\"dataframe\">\n",
       "  <thead>\n",
       "    <tr style=\"text-align: right;\">\n",
       "      <th></th>\n",
       "      <th>average_volume_per_week</th>\n",
       "    </tr>\n",
       "    <tr>\n",
       "      <th>Date</th>\n",
       "      <th></th>\n",
       "    </tr>\n",
       "  </thead>\n",
       "  <tbody>\n",
       "    <tr>\n",
       "      <th>2017-11-19</th>\n",
       "      <td>17196300.0</td>\n",
       "    </tr>\n",
       "    <tr>\n",
       "      <th>2017-11-26</th>\n",
       "      <td>13186925.0</td>\n",
       "    </tr>\n",
       "    <tr>\n",
       "      <th>2017-12-03</th>\n",
       "      <td>25348560.0</td>\n",
       "    </tr>\n",
       "    <tr>\n",
       "      <th>2017-12-10</th>\n",
       "      <td>15973660.0</td>\n",
       "    </tr>\n",
       "    <tr>\n",
       "      <th>2017-12-17</th>\n",
       "      <td>20372040.0</td>\n",
       "    </tr>\n",
       "    <tr>\n",
       "      <th>...</th>\n",
       "      <td>...</td>\n",
       "    </tr>\n",
       "    <tr>\n",
       "      <th>2022-10-16</th>\n",
       "      <td>26361000.0</td>\n",
       "    </tr>\n",
       "    <tr>\n",
       "      <th>2022-10-23</th>\n",
       "      <td>33241980.0</td>\n",
       "    </tr>\n",
       "    <tr>\n",
       "      <th>2022-10-30</th>\n",
       "      <td>25352360.0</td>\n",
       "    </tr>\n",
       "    <tr>\n",
       "      <th>2022-11-06</th>\n",
       "      <td>24034780.0</td>\n",
       "    </tr>\n",
       "    <tr>\n",
       "      <th>2022-11-13</th>\n",
       "      <td>20138560.0</td>\n",
       "    </tr>\n",
       "  </tbody>\n",
       "</table>\n",
       "<p>261 rows × 1 columns</p>\n",
       "</div>"
      ],
      "text/plain": [
       "            average_volume_per_week\n",
       "Date                               \n",
       "2017-11-19               17196300.0\n",
       "2017-11-26               13186925.0\n",
       "2017-12-03               25348560.0\n",
       "2017-12-10               15973660.0\n",
       "2017-12-17               20372040.0\n",
       "...                             ...\n",
       "2022-10-16               26361000.0\n",
       "2022-10-23               33241980.0\n",
       "2022-10-30               25352360.0\n",
       "2022-11-06               24034780.0\n",
       "2022-11-13               20138560.0\n",
       "\n",
       "[261 rows x 1 columns]"
      ]
     },
     "execution_count": 91,
     "metadata": {},
     "output_type": "execute_result"
    }
   ],
   "source": [
    "vz_new['Date'] = pd.to_datetime(vz_new['Date'])\n",
    "(vz_new.groupby([pd.Grouper(key = 'Date', freq = 'W')])\n",
    ".agg(average_volume_per_week = ('Volume' , 'mean'))\n",
    ".round())"
   ]
  },
  {
   "cell_type": "code",
   "execution_count": 92,
   "id": "26d86af2",
   "metadata": {},
   "outputs": [
    {
     "data": {
      "text/html": [
       "<div>\n",
       "<style scoped>\n",
       "    .dataframe tbody tr th:only-of-type {\n",
       "        vertical-align: middle;\n",
       "    }\n",
       "\n",
       "    .dataframe tbody tr th {\n",
       "        vertical-align: top;\n",
       "    }\n",
       "\n",
       "    .dataframe thead th {\n",
       "        text-align: right;\n",
       "    }\n",
       "</style>\n",
       "<table border=\"1\" class=\"dataframe\">\n",
       "  <thead>\n",
       "    <tr style=\"text-align: right;\">\n",
       "      <th></th>\n",
       "      <th>average_volume_per_week</th>\n",
       "    </tr>\n",
       "    <tr>\n",
       "      <th>Date</th>\n",
       "      <th></th>\n",
       "    </tr>\n",
       "  </thead>\n",
       "  <tbody>\n",
       "    <tr>\n",
       "      <th>2017-11-19</th>\n",
       "      <td>3203840.0</td>\n",
       "    </tr>\n",
       "    <tr>\n",
       "      <th>2017-11-26</th>\n",
       "      <td>2896625.0</td>\n",
       "    </tr>\n",
       "    <tr>\n",
       "      <th>2017-12-03</th>\n",
       "      <td>3697340.0</td>\n",
       "    </tr>\n",
       "    <tr>\n",
       "      <th>2017-12-10</th>\n",
       "      <td>3376940.0</td>\n",
       "    </tr>\n",
       "    <tr>\n",
       "      <th>2017-12-17</th>\n",
       "      <td>3739180.0</td>\n",
       "    </tr>\n",
       "    <tr>\n",
       "      <th>...</th>\n",
       "      <td>...</td>\n",
       "    </tr>\n",
       "    <tr>\n",
       "      <th>2022-10-16</th>\n",
       "      <td>3771060.0</td>\n",
       "    </tr>\n",
       "    <tr>\n",
       "      <th>2022-10-23</th>\n",
       "      <td>4182840.0</td>\n",
       "    </tr>\n",
       "    <tr>\n",
       "      <th>2022-10-30</th>\n",
       "      <td>3858540.0</td>\n",
       "    </tr>\n",
       "    <tr>\n",
       "      <th>2022-11-06</th>\n",
       "      <td>3742800.0</td>\n",
       "    </tr>\n",
       "    <tr>\n",
       "      <th>2022-11-13</th>\n",
       "      <td>3797000.0</td>\n",
       "    </tr>\n",
       "  </tbody>\n",
       "</table>\n",
       "<p>261 rows × 1 columns</p>\n",
       "</div>"
      ],
      "text/plain": [
       "            average_volume_per_week\n",
       "Date                               \n",
       "2017-11-19                3203840.0\n",
       "2017-11-26                2896625.0\n",
       "2017-12-03                3697340.0\n",
       "2017-12-10                3376940.0\n",
       "2017-12-17                3739180.0\n",
       "...                             ...\n",
       "2022-10-16                3771060.0\n",
       "2022-10-23                4182840.0\n",
       "2022-10-30                3858540.0\n",
       "2022-11-06                3742800.0\n",
       "2022-11-13                3797000.0\n",
       "\n",
       "[261 rows x 1 columns]"
      ]
     },
     "execution_count": 92,
     "metadata": {},
     "output_type": "execute_result"
    }
   ],
   "source": [
    "vlo_new['Date'] = pd.to_datetime(vlo_new['Date'])\n",
    "(vlo_new.groupby([pd.Grouper(key = 'Date', freq = 'W')])\n",
    ".agg(average_volume_per_week = ('Volume' , 'mean'))\n",
    ".round())"
   ]
  },
  {
   "cell_type": "markdown",
   "id": "e0336dbb",
   "metadata": {},
   "source": [
    "6. Which company recorded the highest total return over the whole period?"
   ]
  },
  {
   "cell_type": "markdown",
   "id": "c2b2c5c8",
   "metadata": {},
   "source": [
    "7. Plot the log-returns of the companies (ideally in the same plot)"
   ]
  },
  {
   "cell_type": "code",
   "execution_count": 95,
   "id": "b5d3d731",
   "metadata": {},
   "outputs": [
    {
     "data": {
      "text/plain": [
       "[<matplotlib.lines.Line2D at 0x2847418e0>]"
      ]
     },
     "execution_count": 95,
     "metadata": {},
     "output_type": "execute_result"
    },
    {
     "data": {
      "image/png": "[encoded data removed]",
      "text/plain": [
       "<Figure size 640x480 with 1 Axes>"
      ]
     },
     "metadata": {},
     "output_type": "display_data"
    }
   ],
   "source": [
    "fig1 = plt.figure()\n",
    "ax1 = fig1.add_subplot(111)\n",
    "\n",
    "ax1.plot(ci_new['log_ret'])\n",
    "ax1.plot(vz_new['log_ret'])\n",
    "ax1.plot(vlo_new['log_ret'])"
   ]
  },
  {
   "cell_type": "markdown",
   "id": "6ace9509",
   "metadata": {},
   "source": [
    "8. Show the log-return distribution of the companies (ideally in the same plot)"
   ]
  },
  {
   "cell_type": "code",
   "execution_count": null,
   "id": "7f5c7e8b",
   "metadata": {},
   "outputs": [],
   "source": [
    "ci_new['log_ret'].hist(bins=10)"
   ]
  },
  {
   "cell_type": "code",
   "execution_count": null,
   "id": "62de30a9",
   "metadata": {},
   "outputs": [],
   "source": []
  }
 ],
 "metadata": {
  "kernelspec": {
   "display_name": "Python 3 (ipykernel)",
   "language": "python",
   "name": "python3"
  },
  "language_info": {
   "codemirror_mode": {
    "name": "ipython",
    "version": 3
   },
   "file_extension": ".py",
   "mimetype": "text/x-python",
   "name": "python",
   "nbconvert_exporter": "python",
   "pygments_lexer": "ipython3",
   "version": "3.8.13"
  }
 },
 "nbformat": 4,
 "nbformat_minor": 5
}
